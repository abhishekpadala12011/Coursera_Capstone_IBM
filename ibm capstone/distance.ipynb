{
 "cells": [
  {
   "cell_type": "code",
   "execution_count": 1,
   "metadata": {},
   "outputs": [],
   "source": [
    "import pandas as pd\n",
    "import numpy as np\n"
   ]
  },
  {
   "cell_type": "code",
   "execution_count": 2,
   "metadata": {},
   "outputs": [
    {
     "data": {
      "text/html": [
       "<div>\n",
       "<style scoped>\n",
       "    .dataframe tbody tr th:only-of-type {\n",
       "        vertical-align: middle;\n",
       "    }\n",
       "\n",
       "    .dataframe tbody tr th {\n",
       "        vertical-align: top;\n",
       "    }\n",
       "\n",
       "    .dataframe thead th {\n",
       "        text-align: right;\n",
       "    }\n",
       "</style>\n",
       "<table border=\"1\" class=\"dataframe\">\n",
       "  <thead>\n",
       "    <tr style=\"text-align: right;\">\n",
       "      <th></th>\n",
       "      <th>Unnamed: 0</th>\n",
       "      <th>Address</th>\n",
       "      <th>lat</th>\n",
       "      <th>long</th>\n",
       "    </tr>\n",
       "  </thead>\n",
       "  <tbody>\n",
       "    <tr>\n",
       "      <th>0</th>\n",
       "      <td>0</td>\n",
       "      <td>AMZN CAN Fulfillment Svcs, ULC , Toronto , ON</td>\n",
       "      <td>43.653226</td>\n",
       "      <td>-79.383184</td>\n",
       "    </tr>\n",
       "  </tbody>\n",
       "</table>\n",
       "</div>"
      ],
      "text/plain": [
       "   Unnamed: 0                                        Address        lat  \\\n",
       "0           0  AMZN CAN Fulfillment Svcs, ULC , Toronto , ON  43.653226   \n",
       "\n",
       "        long  \n",
       "0 -79.383184  "
      ]
     },
     "execution_count": 2,
     "metadata": {},
     "output_type": "execute_result"
    }
   ],
   "source": [
    "Companies = pd.read_excel('/Users/abhishekpadala/Desktop/company1.xlsx')\n",
    "Companies.head(1)"
   ]
  },
  {
   "cell_type": "code",
   "execution_count": 3,
   "metadata": {},
   "outputs": [
    {
     "data": {
      "text/html": [
       "<div>\n",
       "<style scoped>\n",
       "    .dataframe tbody tr th:only-of-type {\n",
       "        vertical-align: middle;\n",
       "    }\n",
       "\n",
       "    .dataframe tbody tr th {\n",
       "        vertical-align: top;\n",
       "    }\n",
       "\n",
       "    .dataframe thead th {\n",
       "        text-align: right;\n",
       "    }\n",
       "</style>\n",
       "<table border=\"1\" class=\"dataframe\">\n",
       "  <thead>\n",
       "    <tr style=\"text-align: right;\">\n",
       "      <th></th>\n",
       "      <th>Unnamed: 0</th>\n",
       "      <th>Rent</th>\n",
       "      <th>Location</th>\n",
       "      <th>lat</th>\n",
       "      <th>long</th>\n",
       "    </tr>\n",
       "  </thead>\n",
       "  <tbody>\n",
       "    <tr>\n",
       "      <th>0</th>\n",
       "      <td>0</td>\n",
       "      <td>$1,750</td>\n",
       "      <td>70 Temperance St, Unit 4116,Toronto,Ontario</td>\n",
       "      <td>43.65053</td>\n",
       "      <td>-79.382148</td>\n",
       "    </tr>\n",
       "  </tbody>\n",
       "</table>\n",
       "</div>"
      ],
      "text/plain": [
       "   Unnamed: 0    Rent                                     Location       lat  \\\n",
       "0           0  $1,750  70 Temperance St, Unit 4116,Toronto,Ontario  43.65053   \n",
       "\n",
       "        long  \n",
       "0 -79.382148  "
      ]
     },
     "execution_count": 3,
     "metadata": {},
     "output_type": "execute_result"
    }
   ],
   "source": [
    "Rents = pd.read_excel('/Users/abhishekpadala/Desktop/cap/rental_data.xlsx')\n",
    "Rents.head(1)"
   ]
  },
  {
   "cell_type": "code",
   "execution_count": 4,
   "metadata": {},
   "outputs": [
    {
     "name": "stdout",
     "output_type": "stream",
     "text": [
      "Requirement already satisfied: geopy in /Users/abhishekpadala/anaconda3/lib/python3.8/site-packages (2.0.0)\n",
      "Requirement already satisfied: geographiclib<2,>=1.49 in /Users/abhishekpadala/anaconda3/lib/python3.8/site-packages (from geopy) (1.50)\n"
     ]
    }
   ],
   "source": [
    "!pip install geopy"
   ]
  },
  {
   "cell_type": "code",
   "execution_count": 5,
   "metadata": {},
   "outputs": [],
   "source": [
    "from geopy.distance import geodesic \n",
    "comp_lat1 = Companies['lat']\n",
    "comp_long1 = Companies['long']\n",
    "comp_name1 = Companies['Address']\n",
    "rent_loc1 = Rents['Location']\n",
    "rent_lat1 = Rents['lat']\n",
    "rent_long1 = Rents['long']  "
   ]
  },
  {
   "cell_type": "code",
   "execution_count": 6,
   "metadata": {},
   "outputs": [],
   "source": [
    "# https://www.geeksforgeeks.org/python-calculate-distance-between-two-places-using-geopy/\n",
    "from geopy.distance import geodesic \n"
   ]
  },
  {
   "cell_type": "code",
   "execution_count": 7,
   "metadata": {},
   "outputs": [
    {
     "data": {
      "text/html": [
       "<div>\n",
       "<style scoped>\n",
       "    .dataframe tbody tr th:only-of-type {\n",
       "        vertical-align: middle;\n",
       "    }\n",
       "\n",
       "    .dataframe tbody tr th {\n",
       "        vertical-align: top;\n",
       "    }\n",
       "\n",
       "    .dataframe thead th {\n",
       "        text-align: right;\n",
       "    }\n",
       "</style>\n",
       "<table border=\"1\" class=\"dataframe\">\n",
       "  <thead>\n",
       "    <tr style=\"text-align: right;\">\n",
       "      <th></th>\n",
       "      <th>comp_name</th>\n",
       "      <th>dist</th>\n",
       "      <th>rent_loc</th>\n",
       "      <th>rent_add</th>\n",
       "    </tr>\n",
       "  </thead>\n",
       "  <tbody>\n",
       "    <tr>\n",
       "      <th>0</th>\n",
       "      <td>AMZN CAN Fulfillment Svcs, ULC , Toronto , ON</td>\n",
       "      <td>0.310973</td>\n",
       "      <td>70 Temperance St, Unit 4116,Toronto,Ontario</td>\n",
       "      <td>(43.6505301, -79.3821482)</td>\n",
       "    </tr>\n",
       "    <tr>\n",
       "      <th>1</th>\n",
       "      <td>AMZN CAN Fulfillment Svcs, ULC , Toronto , ON</td>\n",
       "      <td>0.320038</td>\n",
       "      <td>197 Yonge Street St, Unit 2104,Toronto,Ontario</td>\n",
       "      <td>(43.6535246, -79.3792385)</td>\n",
       "    </tr>\n",
       "    <tr>\n",
       "      <th>2</th>\n",
       "      <td>AMZN CAN Fulfillment Svcs, ULC , Toronto , ON</td>\n",
       "      <td>1.029993</td>\n",
       "      <td>403 Church St, Unit 1711,Toronto,Ontario</td>\n",
       "      <td>(43.6620656, -79.37933710000001)</td>\n",
       "    </tr>\n",
       "    <tr>\n",
       "      <th>3</th>\n",
       "      <td>AMZN CAN Fulfillment Svcs, ULC , Toronto , ON</td>\n",
       "      <td>1.199541</td>\n",
       "      <td>25 Oxley St, Unit 413,Toronto,Ontario</td>\n",
       "      <td>(43.6462468, -79.39452849999999)</td>\n",
       "    </tr>\n",
       "    <tr>\n",
       "      <th>4</th>\n",
       "      <td>AMZN CAN Fulfillment Svcs, ULC , Toronto , ON</td>\n",
       "      <td>1.019601</td>\n",
       "      <td>87 Peter St, Unit 2701,Toronto,Ontario</td>\n",
       "      <td>(43.6469441, -79.3923973)</td>\n",
       "    </tr>\n",
       "  </tbody>\n",
       "</table>\n",
       "</div>"
      ],
      "text/plain": [
       "                                       comp_name      dist  \\\n",
       "0  AMZN CAN Fulfillment Svcs, ULC , Toronto , ON  0.310973   \n",
       "1  AMZN CAN Fulfillment Svcs, ULC , Toronto , ON  0.320038   \n",
       "2  AMZN CAN Fulfillment Svcs, ULC , Toronto , ON  1.029993   \n",
       "3  AMZN CAN Fulfillment Svcs, ULC , Toronto , ON  1.199541   \n",
       "4  AMZN CAN Fulfillment Svcs, ULC , Toronto , ON  1.019601   \n",
       "\n",
       "                                         rent_loc  \\\n",
       "0     70 Temperance St, Unit 4116,Toronto,Ontario   \n",
       "1  197 Yonge Street St, Unit 2104,Toronto,Ontario   \n",
       "2        403 Church St, Unit 1711,Toronto,Ontario   \n",
       "3           25 Oxley St, Unit 413,Toronto,Ontario   \n",
       "4          87 Peter St, Unit 2701,Toronto,Ontario   \n",
       "\n",
       "                           rent_add  \n",
       "0         (43.6505301, -79.3821482)  \n",
       "1         (43.6535246, -79.3792385)  \n",
       "2  (43.6620656, -79.37933710000001)  \n",
       "3  (43.6462468, -79.39452849999999)  \n",
       "4         (43.6469441, -79.3923973)  "
      ]
     },
     "execution_count": 7,
     "metadata": {},
     "output_type": "execute_result"
    }
   ],
   "source": [
    "distance = []\n",
    "\n",
    "for comp in range(0,27):\n",
    "    comp_add = comp_lat1[comp], comp_long1[comp]\n",
    "    comp_name = comp_name1[comp]\n",
    "   # print(comp_ad\n",
    "   # print(comp_name)\n",
    "    for i in range(0, 659):\n",
    "        rent_add = rent_lat1[i], rent_long1[i]\n",
    "        rent_loc = rent_loc1[i]\n",
    "        dist = geodesic(comp_add, rent_add).km\n",
    "        distance.append((comp_name, dist, rent_loc, rent_add))\n",
    "df1=pd.DataFrame(distance, columns=['comp_name', 'dist', 'rent_loc', 'rent_add'])\n",
    "df1.head()"
   ]
  },
  {
   "cell_type": "code",
   "execution_count": 8,
   "metadata": {},
   "outputs": [
    {
     "data": {
      "text/html": [
       "<div>\n",
       "<style scoped>\n",
       "    .dataframe tbody tr th:only-of-type {\n",
       "        vertical-align: middle;\n",
       "    }\n",
       "\n",
       "    .dataframe tbody tr th {\n",
       "        vertical-align: top;\n",
       "    }\n",
       "\n",
       "    .dataframe thead th {\n",
       "        text-align: right;\n",
       "    }\n",
       "</style>\n",
       "<table border=\"1\" class=\"dataframe\">\n",
       "  <thead>\n",
       "    <tr style=\"text-align: right;\">\n",
       "      <th></th>\n",
       "      <th>comp_name</th>\n",
       "      <th>dist</th>\n",
       "      <th>rent_loc</th>\n",
       "      <th>rent_add</th>\n",
       "    </tr>\n",
       "  </thead>\n",
       "  <tbody>\n",
       "    <tr>\n",
       "      <th>17788</th>\n",
       "      <td>Tenstorrent , Toronto , ON</td>\n",
       "      <td>8.730702</td>\n",
       "      <td>426 University Ave, Unit 907,Toronto,Ontario</td>\n",
       "      <td>(43.6539487, -79.38857010000001)</td>\n",
       "    </tr>\n",
       "    <tr>\n",
       "      <th>17789</th>\n",
       "      <td>Tenstorrent , Toronto , ON</td>\n",
       "      <td>7.780631</td>\n",
       "      <td>21 Carlton St, Unit 2604,Toronto,Ontario</td>\n",
       "      <td>(43.66110270000001, -79.3821061)</td>\n",
       "    </tr>\n",
       "    <tr>\n",
       "      <th>17790</th>\n",
       "      <td>Tenstorrent , Toronto , ON</td>\n",
       "      <td>8.807886</td>\n",
       "      <td>70 Temperance St, Unit 1616,Toronto,Ontario</td>\n",
       "      <td>(43.6505301, -79.3821482)</td>\n",
       "    </tr>\n",
       "    <tr>\n",
       "      <th>17791</th>\n",
       "      <td>Tenstorrent , Toronto , ON</td>\n",
       "      <td>9.362337</td>\n",
       "      <td>318 Richmond St W St, Unit 3302,Toronto,Ontario</td>\n",
       "      <td>(43.6489001, -79.39220499999999)</td>\n",
       "    </tr>\n",
       "    <tr>\n",
       "      <th>17792</th>\n",
       "      <td>Tenstorrent , Toronto , ON</td>\n",
       "      <td>8.020853</td>\n",
       "      <td>763 Bay St, Unit 1107,Toronto,Ontario</td>\n",
       "      <td>(43.6599441, -79.3851875)</td>\n",
       "    </tr>\n",
       "  </tbody>\n",
       "</table>\n",
       "</div>"
      ],
      "text/plain": [
       "                        comp_name      dist  \\\n",
       "17788  Tenstorrent , Toronto , ON  8.730702   \n",
       "17789  Tenstorrent , Toronto , ON  7.780631   \n",
       "17790  Tenstorrent , Toronto , ON  8.807886   \n",
       "17791  Tenstorrent , Toronto , ON  9.362337   \n",
       "17792  Tenstorrent , Toronto , ON  8.020853   \n",
       "\n",
       "                                              rent_loc  \\\n",
       "17788     426 University Ave, Unit 907,Toronto,Ontario   \n",
       "17789         21 Carlton St, Unit 2604,Toronto,Ontario   \n",
       "17790      70 Temperance St, Unit 1616,Toronto,Ontario   \n",
       "17791  318 Richmond St W St, Unit 3302,Toronto,Ontario   \n",
       "17792            763 Bay St, Unit 1107,Toronto,Ontario   \n",
       "\n",
       "                               rent_add  \n",
       "17788  (43.6539487, -79.38857010000001)  \n",
       "17789  (43.66110270000001, -79.3821061)  \n",
       "17790         (43.6505301, -79.3821482)  \n",
       "17791  (43.6489001, -79.39220499999999)  \n",
       "17792         (43.6599441, -79.3851875)  "
      ]
     },
     "execution_count": 8,
     "metadata": {},
     "output_type": "execute_result"
    }
   ],
   "source": [
    "df1.tail()"
   ]
  },
  {
   "cell_type": "code",
   "execution_count": 9,
   "metadata": {},
   "outputs": [
    {
     "data": {
      "text/html": [
       "<div>\n",
       "<style scoped>\n",
       "    .dataframe tbody tr th:only-of-type {\n",
       "        vertical-align: middle;\n",
       "    }\n",
       "\n",
       "    .dataframe tbody tr th {\n",
       "        vertical-align: top;\n",
       "    }\n",
       "\n",
       "    .dataframe thead th {\n",
       "        text-align: right;\n",
       "    }\n",
       "</style>\n",
       "<table border=\"1\" class=\"dataframe\">\n",
       "  <thead>\n",
       "    <tr style=\"text-align: right;\">\n",
       "      <th></th>\n",
       "      <th>dist</th>\n",
       "    </tr>\n",
       "  </thead>\n",
       "  <tbody>\n",
       "    <tr>\n",
       "      <th>count</th>\n",
       "      <td>17793.000000</td>\n",
       "    </tr>\n",
       "    <tr>\n",
       "      <th>mean</th>\n",
       "      <td>16.254310</td>\n",
       "    </tr>\n",
       "    <tr>\n",
       "      <th>std</th>\n",
       "      <td>65.197895</td>\n",
       "    </tr>\n",
       "    <tr>\n",
       "      <th>min</th>\n",
       "      <td>0.016024</td>\n",
       "    </tr>\n",
       "    <tr>\n",
       "      <th>25%</th>\n",
       "      <td>0.835914</td>\n",
       "    </tr>\n",
       "    <tr>\n",
       "      <th>50%</th>\n",
       "      <td>1.334920</td>\n",
       "    </tr>\n",
       "    <tr>\n",
       "      <th>75%</th>\n",
       "      <td>2.875210</td>\n",
       "    </tr>\n",
       "    <tr>\n",
       "      <th>max</th>\n",
       "      <td>354.951670</td>\n",
       "    </tr>\n",
       "  </tbody>\n",
       "</table>\n",
       "</div>"
      ],
      "text/plain": [
       "               dist\n",
       "count  17793.000000\n",
       "mean      16.254310\n",
       "std       65.197895\n",
       "min        0.016024\n",
       "25%        0.835914\n",
       "50%        1.334920\n",
       "75%        2.875210\n",
       "max      354.951670"
      ]
     },
     "execution_count": 9,
     "metadata": {},
     "output_type": "execute_result"
    }
   ],
   "source": [
    "df1.describe()"
   ]
  },
  {
   "cell_type": "code",
   "execution_count": null,
   "metadata": {},
   "outputs": [],
   "source": []
  }
 ],
 "metadata": {
  "kernelspec": {
   "display_name": "Python 3",
   "language": "python",
   "name": "python3"
  },
  "language_info": {
   "codemirror_mode": {
    "name": "ipython",
    "version": 3
   },
   "file_extension": ".py",
   "mimetype": "text/x-python",
   "name": "python",
   "nbconvert_exporter": "python",
   "pygments_lexer": "ipython3",
   "version": "3.8.3"
  }
 },
 "nbformat": 4,
 "nbformat_minor": 4
}

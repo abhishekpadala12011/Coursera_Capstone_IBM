{
 "cells": [
  {
   "cell_type": "code",
   "execution_count": 4,
   "metadata": {},
   "outputs": [
    {
     "name": "stdout",
     "output_type": "stream",
     "text": [
      "Requirement already satisfied: selenium in /Users/abhishekpadala/anaconda3/lib/python3.8/site-packages (3.141.0)\n",
      "Requirement already satisfied: urllib3 in /Users/abhishekpadala/anaconda3/lib/python3.8/site-packages (from selenium) (1.25.9)\n",
      "Requirement already satisfied: requests in /Users/abhishekpadala/anaconda3/lib/python3.8/site-packages (2.24.0)\n",
      "Requirement already satisfied: chardet<4,>=3.0.2 in /Users/abhishekpadala/anaconda3/lib/python3.8/site-packages (from requests) (3.0.4)\n",
      "Requirement already satisfied: urllib3!=1.25.0,!=1.25.1,<1.26,>=1.21.1 in /Users/abhishekpadala/anaconda3/lib/python3.8/site-packages (from requests) (1.25.9)\n",
      "Requirement already satisfied: certifi>=2017.4.17 in /Users/abhishekpadala/anaconda3/lib/python3.8/site-packages (from requests) (2020.6.20)\n",
      "Requirement already satisfied: idna<3,>=2.5 in /Users/abhishekpadala/anaconda3/lib/python3.8/site-packages (from requests) (2.10)\n"
     ]
    }
   ],
   "source": [
    "!pip install selenium\n",
    "!pip install requests\n",
    "\n",
    "from selenium import webdriver\n",
    "from bs4 import BeautifulSoup\n",
    "import requests\n",
    "import pandas as pd\n",
    "import re\n",
    "import json\n",
    "from selenium.webdriver.support.ui import Select\n",
    "from selenium.webdriver.chrome.options import Options\n"
   ]
  },
  {
   "cell_type": "code",
   "execution_count": 35,
   "metadata": {},
   "outputs": [
    {
     "name": "stdout",
     "output_type": "stream",
     "text": [
      "1\n",
      "2\n",
      "3\n",
      "4\n",
      "5\n",
      "6\n",
      "7\n",
      "8\n",
      "9\n",
      "10\n",
      "11\n",
      "12\n",
      "13\n",
      "14\n",
      "15\n",
      "16\n",
      "17\n",
      "18\n",
      "19\n",
      "20\n",
      "21\n",
      "22\n"
     ]
    }
   ],
   "source": [
    "driver = webdriver.Chrome(\"./chromedriver\")\n",
    "Rental_Data_W = pd.DataFrame(columns=[\"Rent\",\"Location\"])\n",
    "driver.get(\"https://dwelly.ca/for-rent/-79.3949,43.642900000000004,-79.3749,43.6629?ownership%5B0%5D=condo&ownership%5B1%5D=detached&ownership%5B2%5D=semi-detached&ownership%5B3%5D=row&minPrice=&maxPrice=2100&bedrooms%5B0%5D=1\")\n",
    "for i in range(1,23):\n",
    "    driver.find_element_by_link_text(str(i)).click()\n",
    "    driver.implicitly_wait(25)\n",
    "    print(i)\n",
    "    all_rents= driver.find_elements_by_class_name('column')\n",
    "    for i in all_rents:\n",
    "        result_html = i.get_attribute('innerHTML')\n",
    "        soup = BeautifulSoup(result_html,'html.parser')\n",
    "        try:\n",
    "            rent = soup.find( class_=\"active\").text\n",
    "        except:\n",
    "            rent = 'None'\n",
    "        try:\n",
    "            location = soup.find(class_=\"address\").text\n",
    "        except:\n",
    "            location = 'None'\n",
    "        Rental_Data_W = Rental_Data_W.append({'Rent':rent,'Location':location}, ignore_index=True)\n",
    "Rental_Data_W.to_excel(\"rentdata11.xlsx\",index=False)\n",
    "\n",
    "driver.close()\n"
   ]
  },
  {
   "cell_type": "code",
   "execution_count": null,
   "metadata": {},
   "outputs": [],
   "source": []
  }
 ],
 "metadata": {
  "kernelspec": {
   "display_name": "Python 3",
   "language": "python",
   "name": "python3"
  },
  "language_info": {
   "codemirror_mode": {
    "name": "ipython",
    "version": 3
   },
   "file_extension": ".py",
   "mimetype": "text/x-python",
   "name": "python",
   "nbconvert_exporter": "python",
   "pygments_lexer": "ipython3",
   "version": "3.8.3"
  }
 },
 "nbformat": 4,
 "nbformat_minor": 4
}
